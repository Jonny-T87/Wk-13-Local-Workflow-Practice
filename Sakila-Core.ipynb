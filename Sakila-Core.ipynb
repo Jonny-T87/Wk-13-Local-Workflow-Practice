{
 "cells": [
  {
   "cell_type": "code",
   "execution_count": 3,
   "id": "bc7e9c4a",
   "metadata": {},
   "outputs": [],
   "source": [
    "import pandas as pd\n",
    "import seaborn as sns \n",
    "import matplotlib.pyplot as plt"
   ]
  },
  {
   "cell_type": "code",
   "execution_count": 4,
   "id": "1b18f455",
   "metadata": {},
   "outputs": [
    {
     "name": "stdout",
     "output_type": "stream",
     "text": [
      "<class 'pandas.core.frame.DataFrame'>\n",
      "RangeIndex: 1249 entries, 0 to 1248\n",
      "Data columns (total 30 columns):\n",
      " #   Column                      Non-Null Count  Dtype  \n",
      "---  ------                      --------------  -----  \n",
      " 0   DistrictName                1249 non-null   object \n",
      " 1   EstablishmentCode           1249 non-null   object \n",
      " 2   EstablishmentName           1249 non-null   object \n",
      " 3   BRCName                     1249 non-null   object \n",
      " 4   CRCName                     1249 non-null   object \n",
      " 5   SchoolLevel                 1246 non-null   object \n",
      " 6   ManagementName              1246 non-null   object \n",
      " 7   LocalityHabitation          1221 non-null   object \n",
      " 8   SubdivisionName             1241 non-null   object \n",
      " 9   ConstituencyName            1249 non-null   object \n",
      " 10  RevenueBlockName            1249 non-null   object \n",
      " 11  CivicBodyName               1249 non-null   object \n",
      " 12  WardName                    1249 non-null   object \n",
      " 13  PostOfficeName              1249 non-null   object \n",
      " 14  PhoneNo                     794 non-null    object \n",
      " 15  FaxNo                       20 non-null     object \n",
      " 16  EmailID                     182 non-null    object \n",
      " 17  Website                     24 non-null     object \n",
      " 18  LocatedInRuralOrUrban       1249 non-null   object \n",
      " 19  DiseCode                    439 non-null    object \n",
      " 20  EstablishedDate             1230 non-null   object \n",
      " 21  DistrictHQDistance (in Km)  1246 non-null   float64\n",
      " 22  CRCDistance (in Km)         1246 non-null   float64\n",
      " 23  BACDistance (in Km)         1246 non-null   float64\n",
      " 24  IsRecognized                1246 non-null   object \n",
      " 25  RecognizedBy                1004 non-null   object \n",
      " 26  ContactPersonName           0 non-null      float64\n",
      " 27  LowestClass                 1246 non-null   object \n",
      " 28  HighestClass                1246 non-null   object \n",
      " 29  BoardName                   784 non-null    object \n",
      "dtypes: float64(4), object(26)\n",
      "memory usage: 292.9+ KB\n"
     ]
    },
    {
     "data": {
      "text/html": [
       "<div>\n",
       "<style scoped>\n",
       "    .dataframe tbody tr th:only-of-type {\n",
       "        vertical-align: middle;\n",
       "    }\n",
       "\n",
       "    .dataframe tbody tr th {\n",
       "        vertical-align: top;\n",
       "    }\n",
       "\n",
       "    .dataframe thead th {\n",
       "        text-align: right;\n",
       "    }\n",
       "</style>\n",
       "<table border=\"1\" class=\"dataframe\">\n",
       "  <thead>\n",
       "    <tr style=\"text-align: right;\">\n",
       "      <th></th>\n",
       "      <th>DistrictName</th>\n",
       "      <th>EstablishmentCode</th>\n",
       "      <th>EstablishmentName</th>\n",
       "      <th>BRCName</th>\n",
       "      <th>CRCName</th>\n",
       "      <th>SchoolLevel</th>\n",
       "      <th>ManagementName</th>\n",
       "      <th>LocalityHabitation</th>\n",
       "      <th>SubdivisionName</th>\n",
       "      <th>ConstituencyName</th>\n",
       "      <th>...</th>\n",
       "      <th>EstablishedDate</th>\n",
       "      <th>DistrictHQDistance (in Km)</th>\n",
       "      <th>CRCDistance (in Km)</th>\n",
       "      <th>BACDistance (in Km)</th>\n",
       "      <th>IsRecognized</th>\n",
       "      <th>RecognizedBy</th>\n",
       "      <th>ContactPersonName</th>\n",
       "      <th>LowestClass</th>\n",
       "      <th>HighestClass</th>\n",
       "      <th>BoardName</th>\n",
       "    </tr>\n",
       "  </thead>\n",
       "  <tbody>\n",
       "    <tr>\n",
       "      <th>0</th>\n",
       "      <td>East</td>\n",
       "      <td>S0169</td>\n",
       "      <td>BUDANG GOVERNMENT PRIMARY SCHOOL (E)</td>\n",
       "      <td>Duga Brc</td>\n",
       "      <td>Central Pendam Government Senior Secondary School</td>\n",
       "      <td>PS</td>\n",
       "      <td>State Govt.</td>\n",
       "      <td>BUDANG</td>\n",
       "      <td>Gangtok</td>\n",
       "      <td>Rhenock</td>\n",
       "      <td>...</td>\n",
       "      <td>28126</td>\n",
       "      <td>58.0</td>\n",
       "      <td>8.0</td>\n",
       "      <td>16.0</td>\n",
       "      <td>Recognized</td>\n",
       "      <td>HRDD</td>\n",
       "      <td>NaN</td>\n",
       "      <td>Class 1</td>\n",
       "      <td>Class 5</td>\n",
       "      <td>NaN</td>\n",
       "    </tr>\n",
       "    <tr>\n",
       "      <th>1</th>\n",
       "      <td>East</td>\n",
       "      <td>S0099</td>\n",
       "      <td>CENTRAL PENDAM GOVERNMENT SENIOR SECONDARY SCHOOL</td>\n",
       "      <td>Duga Brc</td>\n",
       "      <td>Central Pendam Government Senior Secondary School</td>\n",
       "      <td>SSS</td>\n",
       "      <td>State Govt.</td>\n",
       "      <td>CENTRAL PENDAM</td>\n",
       "      <td>Gangtok</td>\n",
       "      <td>West Pandam</td>\n",
       "      <td>...</td>\n",
       "      <td>15342</td>\n",
       "      <td>50.0</td>\n",
       "      <td>0.0</td>\n",
       "      <td>6.0</td>\n",
       "      <td>Recognized</td>\n",
       "      <td>HRDD</td>\n",
       "      <td>NaN</td>\n",
       "      <td>Class 1</td>\n",
       "      <td>Class 12</td>\n",
       "      <td>C.B.S.E.</td>\n",
       "    </tr>\n",
       "    <tr>\n",
       "      <th>2</th>\n",
       "      <td>East</td>\n",
       "      <td>S0848</td>\n",
       "      <td>CENTRAL POINT ACADEMY, CENTRAL PENDAM</td>\n",
       "      <td>Duga Brc</td>\n",
       "      <td>Central Pendam Government Senior Secondary School</td>\n",
       "      <td>SS</td>\n",
       "      <td>Private (Unaided)</td>\n",
       "      <td>UPPER BHURUNG CENTRAL PENDAM</td>\n",
       "      <td>Gangtok</td>\n",
       "      <td>West Pandam</td>\n",
       "      <td>...</td>\n",
       "      <td>37257.38680555556</td>\n",
       "      <td>49.0</td>\n",
       "      <td>1.5</td>\n",
       "      <td>6.0</td>\n",
       "      <td>Recognized</td>\n",
       "      <td>HRDD, GOVT. OF SIKKIM</td>\n",
       "      <td>NaN</td>\n",
       "      <td>Class 1</td>\n",
       "      <td>Class 10</td>\n",
       "      <td>C.B.S.E.</td>\n",
       "    </tr>\n",
       "    <tr>\n",
       "      <th>3</th>\n",
       "      <td>East</td>\n",
       "      <td>S0190</td>\n",
       "      <td>CHEURIBOTEY GOVERNMENT JUNIOR HIGH SCHOOL (E)</td>\n",
       "      <td>Duga Brc</td>\n",
       "      <td>Central Pendam Government Senior Secondary School</td>\n",
       "      <td>JHS</td>\n",
       "      <td>State Govt.</td>\n",
       "      <td>CHEURIBOTEY</td>\n",
       "      <td>Gangtok</td>\n",
       "      <td>West Pandam</td>\n",
       "      <td>...</td>\n",
       "      <td>28856</td>\n",
       "      <td>60.0</td>\n",
       "      <td>6.0</td>\n",
       "      <td>6.0</td>\n",
       "      <td>Recognized</td>\n",
       "      <td>State Govt.</td>\n",
       "      <td>NaN</td>\n",
       "      <td>Class 1</td>\n",
       "      <td>Class 8</td>\n",
       "      <td>NaN</td>\n",
       "    </tr>\n",
       "    <tr>\n",
       "      <th>4</th>\n",
       "      <td>East</td>\n",
       "      <td>S0111</td>\n",
       "      <td>DUGA GOVERNMENT SECONDARY SCHOOL</td>\n",
       "      <td>Duga Brc</td>\n",
       "      <td>Central Pendam Government Senior Secondary School</td>\n",
       "      <td>SS</td>\n",
       "      <td>State Govt.</td>\n",
       "      <td>DUGA</td>\n",
       "      <td>Gangtok</td>\n",
       "      <td>West Pandam</td>\n",
       "      <td>...</td>\n",
       "      <td>1828</td>\n",
       "      <td>52.0</td>\n",
       "      <td>0.0</td>\n",
       "      <td>0.5</td>\n",
       "      <td>Recognized</td>\n",
       "      <td>c.b.s.e.</td>\n",
       "      <td>NaN</td>\n",
       "      <td>Class 1</td>\n",
       "      <td>Class 10</td>\n",
       "      <td>C.B.S.E.</td>\n",
       "    </tr>\n",
       "  </tbody>\n",
       "</table>\n",
       "<p>5 rows × 30 columns</p>\n",
       "</div>"
      ],
      "text/plain": [
       "  DistrictName EstablishmentCode  \\\n",
       "0         East             S0169   \n",
       "1         East             S0099   \n",
       "2         East             S0848   \n",
       "3         East             S0190   \n",
       "4         East             S0111   \n",
       "\n",
       "                                   EstablishmentName   BRCName  \\\n",
       "0               BUDANG GOVERNMENT PRIMARY SCHOOL (E)  Duga Brc   \n",
       "1  CENTRAL PENDAM GOVERNMENT SENIOR SECONDARY SCHOOL  Duga Brc   \n",
       "2              CENTRAL POINT ACADEMY, CENTRAL PENDAM  Duga Brc   \n",
       "3      CHEURIBOTEY GOVERNMENT JUNIOR HIGH SCHOOL (E)  Duga Brc   \n",
       "4                   DUGA GOVERNMENT SECONDARY SCHOOL  Duga Brc   \n",
       "\n",
       "                                             CRCName SchoolLevel  \\\n",
       "0  Central Pendam Government Senior Secondary School          PS   \n",
       "1  Central Pendam Government Senior Secondary School         SSS   \n",
       "2  Central Pendam Government Senior Secondary School          SS   \n",
       "3  Central Pendam Government Senior Secondary School         JHS   \n",
       "4  Central Pendam Government Senior Secondary School          SS   \n",
       "\n",
       "      ManagementName            LocalityHabitation SubdivisionName  \\\n",
       "0        State Govt.                        BUDANG         Gangtok   \n",
       "1        State Govt.                CENTRAL PENDAM         Gangtok   \n",
       "2  Private (Unaided)  UPPER BHURUNG CENTRAL PENDAM         Gangtok   \n",
       "3        State Govt.                   CHEURIBOTEY         Gangtok   \n",
       "4        State Govt.                          DUGA         Gangtok   \n",
       "\n",
       "  ConstituencyName  ...    EstablishedDate DistrictHQDistance (in Km)  \\\n",
       "0          Rhenock  ...              28126                       58.0   \n",
       "1      West Pandam  ...              15342                       50.0   \n",
       "2      West Pandam  ...  37257.38680555556                       49.0   \n",
       "3      West Pandam  ...              28856                       60.0   \n",
       "4      West Pandam  ...               1828                       52.0   \n",
       "\n",
       "  CRCDistance (in Km) BACDistance (in Km) IsRecognized           RecognizedBy  \\\n",
       "0                 8.0                16.0   Recognized                   HRDD   \n",
       "1                 0.0                 6.0   Recognized                   HRDD   \n",
       "2                 1.5                 6.0   Recognized  HRDD, GOVT. OF SIKKIM   \n",
       "3                 6.0                 6.0   Recognized            State Govt.   \n",
       "4                 0.0                 0.5   Recognized               c.b.s.e.   \n",
       "\n",
       "  ContactPersonName LowestClass HighestClass BoardName  \n",
       "0               NaN     Class 1      Class 5       NaN  \n",
       "1               NaN     Class 1     Class 12  C.B.S.E.  \n",
       "2               NaN     Class 1     Class 10  C.B.S.E.  \n",
       "3               NaN     Class 1      Class 8       NaN  \n",
       "4               NaN     Class 1     Class 10  C.B.S.E.  \n",
       "\n",
       "[5 rows x 30 columns]"
      ]
     },
     "execution_count": 4,
     "metadata": {},
     "output_type": "execute_result"
    }
   ],
   "source": [
    "df = pd.read_csv('Data/School_Details.csv')\n",
    "df.info()\n",
    "df.head()"
   ]
  },
  {
   "cell_type": "code",
   "execution_count": 5,
   "id": "0a0e67da",
   "metadata": {},
   "outputs": [
    {
     "data": {
      "text/plain": [
       "15801.55"
      ]
     },
     "execution_count": 5,
     "metadata": {},
     "output_type": "execute_result"
    }
   ],
   "source": [
    "df['BACDistance (in Km)'].sum()"
   ]
  },
  {
   "cell_type": "code",
   "execution_count": 6,
   "id": "94c9e425",
   "metadata": {},
   "outputs": [
    {
     "data": {
      "text/plain": [
       "0                    BUDANG GOVERNMENT PRIMARY SCHOOL (E)\n",
       "1       CENTRAL PENDAM GOVERNMENT SENIOR SECONDARY SCHOOL\n",
       "2                   CENTRAL POINT ACADEMY, CENTRAL PENDAM\n",
       "3           CHEURIBOTEY GOVERNMENT JUNIOR HIGH SCHOOL (E)\n",
       "4                        DUGA GOVERNMENT SECONDARY SCHOOL\n",
       "                              ...                        \n",
       "1244                 MANGSABONG GOVERNMENT PRIMARY SCHOOL\n",
       "1245            MANGTABONG GOVERNMENT PRIMARY SCHOOL(SSA)\n",
       "1246                NEW HORIZON ACADEMY, LASSO(TASHIDING)\n",
       "1247              TINGTING GAON GOVERNMENT PRIMARY SCHOOL\n",
       "1248                      TSONG GOVERNMENT PRIMARY SCHOOL\n",
       "Name: EstablishmentName, Length: 1249, dtype: object"
      ]
     },
     "execution_count": 6,
     "metadata": {},
     "output_type": "execute_result"
    }
   ],
   "source": [
    "df['EstablishmentName']"
   ]
  },
  {
   "cell_type": "code",
   "execution_count": 9,
   "id": "cc87a40e",
   "metadata": {},
   "outputs": [
    {
     "data": {
      "image/png": "[encoded data removed]",
      "text/plain": [
       "<Figure size 432x288 with 1 Axes>"
      ]
     },
     "metadata": {
      "needs_background": "light"
     },
     "output_type": "display_data"
    }
   ],
   "source": [
    "sns.barplot(data=df, x='SchoolLevel', y='BACDistance (in Km)');\n",
    "plt.savefig('barplot1.png')"
   ]
  },
  {
   "cell_type": "code",
   "execution_count": 14,
   "id": "f7c6641a",
   "metadata": {},
   "outputs": [
    {
     "data": {
      "image/png": "[encoded data removed]",
      "text/plain": [
       "<Figure size 432x288 with 1 Axes>"
      ]
     },
     "metadata": {
      "needs_background": "light"
     },
     "output_type": "display_data"
    }
   ],
   "source": [
    "df.groupby('SchoolLevel')['BACDistance (in Km)'].mean().plot(kind='bar')\n",
    "plt.savefig('AVGbarplot2.png')"
   ]
  },
  {
   "cell_type": "markdown",
   "id": "64bdf03f",
   "metadata": {},
   "source": [
    "![png](barplot1.png)"
   ]
  },
  {
   "cell_type": "markdown",
   "id": "def61085",
   "metadata": {},
   "source": [
    "![png](AVGbarplot2.png)"
   ]
  },
  {
   "cell_type": "code",
   "execution_count": null,
   "id": "3ce5dad7",
   "metadata": {},
   "outputs": [],
   "source": []
  }
 ],
 "metadata": {
  "kernelspec": {
   "display_name": "Python (dojo-env)",
   "language": "python",
   "name": "dojo-env"
  },
  "language_info": {
   "codemirror_mode": {
    "name": "ipython",
    "version": 3
   },
   "file_extension": ".py",
   "mimetype": "text/x-python",
   "name": "python",
   "nbconvert_exporter": "python",
   "pygments_lexer": "ipython3",
   "version": "3.8.13"
  },
  "toc": {
   "base_numbering": 1,
   "nav_menu": {},
   "number_sections": false,
   "sideBar": true,
   "skip_h1_title": false,
   "title_cell": "Table of Contents",
   "title_sidebar": "Contents",
   "toc_cell": false,
   "toc_position": {
    "height": "calc(100% - 180px)",
    "left": "10px",
    "top": "150px",
    "width": "165px"
   },
   "toc_section_display": true,
   "toc_window_display": true
  }
 },
 "nbformat": 4,
 "nbformat_minor": 5
}
